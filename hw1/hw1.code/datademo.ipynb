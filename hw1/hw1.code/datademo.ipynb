{
 "cells": [
  {
   "cell_type": "code",
   "execution_count": 2,
   "metadata": {
    "collapsed": true
   },
   "outputs": [],
   "source": [
    "from data import Data\n",
    "import numpy as np\n",
    "DATA_DIR = 'data/'"
   ]
  },
  {
   "cell_type": "markdown",
   "metadata": {},
   "source": [
    "### Loading the data:\n",
    "\n",
    "You can either call the Data object with a numpy array or you can pass in a path to a file."
   ]
  },
  {
   "cell_type": "code",
   "execution_count": 3,
   "metadata": {
    "collapsed": true
   },
   "outputs": [],
   "source": [
    "data = np.loadtxt(DATA_DIR + 'train.csv', delimiter=',', dtype = str)\n",
    "data_obj = Data(data = data)"
   ]
  },
  {
   "cell_type": "code",
   "execution_count": 4,
   "metadata": {
    "collapsed": true
   },
   "outputs": [],
   "source": [
    "data_obj2 = Data(fpath = DATA_DIR + 'test.csv')"
   ]
  },
  {
   "cell_type": "markdown",
   "metadata": {},
   "source": [
    "### Attribute information\n",
    "\n",
    "Each attribute is defined as a custom dictionary object with the below properties:\n",
    "\n",
    "- Column name\n",
    "- Column Index\n",
    "- Possible values\n",
    "\n",
    "\n",
    "#### Get the list of attributes:\n",
    "\n",
    "Returns a dictionary that maps attribute names to their respective attribute objects"
   ]
  },
  {
   "cell_type": "code",
   "execution_count": 6,
   "metadata": {
    "collapsed": false
   },
   "outputs": [
    {
     "data": {
      "text/plain": [
       "{'bruises': <data.Attribute at 0x7fe5adccff60>,\n",
       " 'cap-color': <data.Attribute at 0x7fe5cc059b38>,\n",
       " 'cap-shape': <data.Attribute at 0x7fe5cc0591d0>,\n",
       " 'cap-surface': <data.Attribute at 0x7fe5cc059ac8>,\n",
       " 'gill-attachment': <data.Attribute at 0x7fe5adccff98>,\n",
       " 'gill-color': <data.Attribute at 0x7fe5ad979080>,\n",
       " 'gill-size': <data.Attribute at 0x7fe5ad979048>,\n",
       " 'gill-spacing': <data.Attribute at 0x7fe5adccffd0>,\n",
       " 'habitat': <data.Attribute at 0x7fe5ad979358>,\n",
       " 'population': <data.Attribute at 0x7fe5ad979320>,\n",
       " 'ring-number': <data.Attribute at 0x7fe5ad979278>,\n",
       " 'ring-type': <data.Attribute at 0x7fe5ad9792b0>,\n",
       " 'spore-print-color': <data.Attribute at 0x7fe5ad9792e8>,\n",
       " 'stalk-color-above-ring': <data.Attribute at 0x7fe5ad979198>,\n",
       " 'stalk-color-below-ring': <data.Attribute at 0x7fe5ad9791d0>,\n",
       " 'stalk-root': <data.Attribute at 0x7fe5ad9790f0>,\n",
       " 'stalk-shape': <data.Attribute at 0x7fe5ad9790b8>,\n",
       " 'stalk-surface-above-ring': <data.Attribute at 0x7fe5ad979128>,\n",
       " 'stalk-surface-below-ring': <data.Attribute at 0x7fe5ad979160>,\n",
       " 'veil-color': <data.Attribute at 0x7fe5ad979240>,\n",
       " 'veil-type': <data.Attribute at 0x7fe5ad979208>}"
      ]
     },
     "execution_count": 6,
     "metadata": {},
     "output_type": "execute_result"
    }
   ],
   "source": [
    "data_obj.attributes\n",
    "#print(data_obj.attributes[2])"
   ]
  },
  {
   "cell_type": "markdown",
   "metadata": {},
   "source": [
    "#### Fetch information for specific attribute: \n",
    "\n",
    "##### Column index:"
   ]
  },
  {
   "cell_type": "code",
   "execution_count": 5,
   "metadata": {
    "collapsed": false
   },
   "outputs": [
    {
     "data": {
      "text/plain": [
       "2"
      ]
     },
     "execution_count": 5,
     "metadata": {},
     "output_type": "execute_result"
    }
   ],
   "source": [
    "data_obj.attributes['cap-color'].index"
   ]
  },
  {
   "cell_type": "markdown",
   "metadata": {},
   "source": [
    "##### Possible values:"
   ]
  },
  {
   "cell_type": "code",
   "execution_count": 6,
   "metadata": {
    "collapsed": false
   },
   "outputs": [
    {
     "data": {
      "text/plain": [
       "array(['b', 'c', 'e', 'g', 'n', 'p', 'r', 'u', 'w', 'y'],\n",
       "      dtype='<U24')"
      ]
     },
     "execution_count": 6,
     "metadata": {},
     "output_type": "execute_result"
    }
   ],
   "source": [
    "data_obj.attributes['cap-color'].possible_vals"
   ]
  },
  {
   "cell_type": "markdown",
   "metadata": {},
   "source": [
    "### Data selection:\n",
    "\n",
    "#### Select rows:\n",
    "\n",
    "Selects all the rows that match the attribute name and value. Returns a new copy of the Data object that is set to those selected rows."
   ]
  },
  {
   "cell_type": "code",
   "execution_count": 7,
   "metadata": {
    "collapsed": true
   },
   "outputs": [],
   "source": [
    "data_subset = data_obj.get_row_subset('cap-color', 'b')"
   ]
  },
  {
   "cell_type": "code",
   "execution_count": 8,
   "metadata": {
    "collapsed": false
   },
   "outputs": [
    {
     "data": {
      "text/plain": [
       "<data.Data at 0x1066fdef0>"
      ]
     },
     "execution_count": 8,
     "metadata": {},
     "output_type": "execute_result"
    }
   ],
   "source": [
    "data_subset"
   ]
  },
  {
   "cell_type": "code",
   "execution_count": 9,
   "metadata": {
    "collapsed": false
   },
   "outputs": [
    {
     "data": {
      "text/plain": [
       "array([['e', 'x', 'y', ..., 'w', 'c', 'w'],\n",
       "       ['p', 'x', 's', ..., 'h', 's', 'u'],\n",
       "       ['p', 'x', 's', ..., 'h', 's', 'g'],\n",
       "       ..., \n",
       "       ['p', 'x', 's', ..., 'h', 'v', 'u'],\n",
       "       ['p', 'b', 'y', ..., 'r', 'v', 'g'],\n",
       "       ['p', 'f', 's', ..., 'h', 'v', 'u']],\n",
       "      dtype='<U24')"
      ]
     },
     "execution_count": 9,
     "metadata": {},
     "output_type": "execute_result"
    }
   ],
   "source": [
    "data_subset.raw_data"
   ]
  },
  {
   "cell_type": "markdown",
   "metadata": {},
   "source": [
    "#### Select Columns:\n",
    "\n",
    "Select the column that corresponds to the attribute name. Actually, we can use this function to verify if the row subset call gave us the right result or not."
   ]
  },
  {
   "cell_type": "code",
   "execution_count": 10,
   "metadata": {
    "collapsed": false
   },
   "outputs": [
    {
     "data": {
      "text/plain": [
       "array(['b', 'b', 'b', 'b', 'b', 'b', 'b', 'b', 'b', 'b', 'b', 'b', 'b',\n",
       "       'b', 'b', 'b', 'b', 'b', 'b', 'b', 'b', 'b', 'b', 'b', 'b', 'b',\n",
       "       'b', 'b', 'b', 'b', 'b', 'b', 'b', 'b', 'b', 'b', 'b', 'b', 'b',\n",
       "       'b', 'b', 'b', 'b', 'b', 'b', 'b', 'b', 'b', 'b', 'b', 'b', 'b',\n",
       "       'b', 'b', 'b', 'b', 'b', 'b', 'b', 'b', 'b', 'b', 'b', 'b', 'b',\n",
       "       'b', 'b', 'b', 'b', 'b', 'b', 'b', 'b', 'b', 'b', 'b', 'b', 'b',\n",
       "       'b', 'b', 'b', 'b', 'b', 'b', 'b', 'b', 'b', 'b', 'b', 'b', 'b',\n",
       "       'b', 'b', 'b', 'b', 'b', 'b', 'b', 'b', 'b', 'b', 'b', 'b', 'b',\n",
       "       'b', 'b', 'b', 'b', 'b', 'b', 'b', 'b', 'b', 'b', 'b', 'b', 'b',\n",
       "       'b', 'b', 'b', 'b', 'b', 'b', 'b', 'b', 'b', 'b', 'b', 'b'],\n",
       "      dtype='<U24')"
      ]
     },
     "execution_count": 10,
     "metadata": {},
     "output_type": "execute_result"
    }
   ],
   "source": [
    "data_subset.get_column('cap-color')"
   ]
  },
  {
   "cell_type": "markdown",
   "metadata": {},
   "source": [
    "We can also select multiple columns:"
   ]
  },
  {
   "cell_type": "code",
   "execution_count": 13,
   "metadata": {
    "collapsed": false
   },
   "outputs": [
    {
     "data": {
      "text/plain": [
       "array([['b', 'e'],\n",
       "       ['b', 'p'],\n",
       "       ['b', 'p'],\n",
       "       ['b', 'p'],\n",
       "       ['b', 'p'],\n",
       "       ['b', 'e'],\n",
       "       ['b', 'p'],\n",
       "       ['b', 'e'],\n",
       "       ['b', 'e'],\n",
       "       ['b', 'e'],\n",
       "       ['b', 'p'],\n",
       "       ['b', 'e'],\n",
       "       ['b', 'p'],\n",
       "       ['b', 'p'],\n",
       "       ['b', 'p'],\n",
       "       ['b', 'p'],\n",
       "       ['b', 'e'],\n",
       "       ['b', 'p'],\n",
       "       ['b', 'e'],\n",
       "       ['b', 'p'],\n",
       "       ['b', 'e'],\n",
       "       ['b', 'p'],\n",
       "       ['b', 'e'],\n",
       "       ['b', 'e'],\n",
       "       ['b', 'p'],\n",
       "       ['b', 'e'],\n",
       "       ['b', 'p'],\n",
       "       ['b', 'e'],\n",
       "       ['b', 'e'],\n",
       "       ['b', 'p'],\n",
       "       ['b', 'e'],\n",
       "       ['b', 'p'],\n",
       "       ['b', 'p'],\n",
       "       ['b', 'e'],\n",
       "       ['b', 'e'],\n",
       "       ['b', 'p'],\n",
       "       ['b', 'p'],\n",
       "       ['b', 'p'],\n",
       "       ['b', 'p'],\n",
       "       ['b', 'p'],\n",
       "       ['b', 'p'],\n",
       "       ['b', 'p'],\n",
       "       ['b', 'e'],\n",
       "       ['b', 'p'],\n",
       "       ['b', 'p'],\n",
       "       ['b', 'p'],\n",
       "       ['b', 'e'],\n",
       "       ['b', 'p'],\n",
       "       ['b', 'p'],\n",
       "       ['b', 'p'],\n",
       "       ['b', 'e'],\n",
       "       ['b', 'p'],\n",
       "       ['b', 'e'],\n",
       "       ['b', 'p'],\n",
       "       ['b', 'p'],\n",
       "       ['b', 'p'],\n",
       "       ['b', 'p'],\n",
       "       ['b', 'p'],\n",
       "       ['b', 'e'],\n",
       "       ['b', 'p'],\n",
       "       ['b', 'p'],\n",
       "       ['b', 'p'],\n",
       "       ['b', 'p'],\n",
       "       ['b', 'p'],\n",
       "       ['b', 'e'],\n",
       "       ['b', 'p'],\n",
       "       ['b', 'p'],\n",
       "       ['b', 'p'],\n",
       "       ['b', 'p'],\n",
       "       ['b', 'p'],\n",
       "       ['b', 'p'],\n",
       "       ['b', 'p'],\n",
       "       ['b', 'p'],\n",
       "       ['b', 'p'],\n",
       "       ['b', 'p'],\n",
       "       ['b', 'e'],\n",
       "       ['b', 'p'],\n",
       "       ['b', 'e'],\n",
       "       ['b', 'p'],\n",
       "       ['b', 'p'],\n",
       "       ['b', 'p'],\n",
       "       ['b', 'e'],\n",
       "       ['b', 'p'],\n",
       "       ['b', 'p'],\n",
       "       ['b', 'e'],\n",
       "       ['b', 'p'],\n",
       "       ['b', 'p'],\n",
       "       ['b', 'e'],\n",
       "       ['b', 'p'],\n",
       "       ['b', 'p'],\n",
       "       ['b', 'p'],\n",
       "       ['b', 'p'],\n",
       "       ['b', 'p'],\n",
       "       ['b', 'p'],\n",
       "       ['b', 'p'],\n",
       "       ['b', 'e'],\n",
       "       ['b', 'e'],\n",
       "       ['b', 'e'],\n",
       "       ['b', 'p'],\n",
       "       ['b', 'p'],\n",
       "       ['b', 'e'],\n",
       "       ['b', 'p'],\n",
       "       ['b', 'e'],\n",
       "       ['b', 'p'],\n",
       "       ['b', 'p'],\n",
       "       ['b', 'p'],\n",
       "       ['b', 'p'],\n",
       "       ['b', 'p'],\n",
       "       ['b', 'p'],\n",
       "       ['b', 'p'],\n",
       "       ['b', 'e'],\n",
       "       ['b', 'p'],\n",
       "       ['b', 'p'],\n",
       "       ['b', 'e'],\n",
       "       ['b', 'p'],\n",
       "       ['b', 'p'],\n",
       "       ['b', 'e'],\n",
       "       ['b', 'e'],\n",
       "       ['b', 'p'],\n",
       "       ['b', 'p'],\n",
       "       ['b', 'p'],\n",
       "       ['b', 'p'],\n",
       "       ['b', 'p'],\n",
       "       ['b', 'p'],\n",
       "       ['b', 'p'],\n",
       "       ['b', 'p'],\n",
       "       ['b', 'p'],\n",
       "       ['b', 'p'],\n",
       "       ['b', 'p']],\n",
       "      dtype='<U24')"
      ]
     },
     "execution_count": 13,
     "metadata": {},
     "output_type": "execute_result"
    }
   ],
   "source": [
    "data_subset.get_column(['cap-color', 'label'])"
   ]
  },
  {
   "cell_type": "code",
   "execution_count": null,
   "metadata": {
    "collapsed": true
   },
   "outputs": [],
   "source": []
  }
 ],
 "metadata": {
  "kernelspec": {
   "display_name": "Python 3",
   "language": "python",
   "name": "python3"
  },
  "language_info": {
   "codemirror_mode": {
    "name": "ipython",
    "version": 3
   },
   "file_extension": ".py",
   "mimetype": "text/x-python",
   "name": "python",
   "nbconvert_exporter": "python",
   "pygments_lexer": "ipython3",
   "version": "3.5.1"
  }
 },
 "nbformat": 4,
 "nbformat_minor": 2
}
